{
 "cells": [
  {
   "cell_type": "code",
   "execution_count": 7,
   "metadata": {},
   "outputs": [
    {
     "name": "stdout",
     "output_type": "stream",
     "text": [
      "Tokenized Sentence: ['BBDO', 'South', 'in', 'Atlanta', ',', 'which', 'handles', 'corporate', 'advertising', 'for', 'Georgia-Pacific', ',', 'will', 'assume', 'additional', 'duties', 'for', 'brands', 'like', 'Angel', 'Soft', 'toilet', 'tissue', 'and', 'Sparkle', 'paper', 'towels', ',', 'said', 'Ken', 'Haldin', ',', 'a', 'spokesman', 'for', 'Georgia-Pacific', 'in', 'Atlanta']\n",
      "Filterd Sentence: ['BBDO', 'South', 'Atlanta', 'handles', 'corporate', 'advertising', 'Georgia-Pacific', 'assume', 'additional', 'duties', 'brands', 'like', 'Angel', 'Soft', 'toilet', 'tissue', 'Sparkle', 'paper', 'towels', 'said', 'Ken', 'Haldin', 'spokesman', 'Georgia-Pacific', 'Atlanta']\n"
     ]
    }
   ],
   "source": [
    "from nltk.tokenize import word_tokenize\n",
    "from nltk.corpus import stopwords\n",
    "import string\n",
    "from nltk.stem import PorterStemmer\n",
    "text = \"BBDO South in Atlanta, which handles corporate advertising for Georgia-Pacific, will assume additional duties for brands like Angel Soft toilet tissue and Sparkle paper towels, said Ken Haldin, a spokesman for Georgia-Pacific in Atlanta\"\n",
    "tokenized_word=word_tokenize(text)\n",
    "stop_words=set(stopwords.words(\"english\"))\n",
    "\n",
    "filtered_sent=[]\n",
    "for w in tokenized_word:\n",
    "    if (w not in stop_words) and (w not in string.punctuation):\n",
    "        filtered_sent.append(w)\n",
    "print(\"Tokenized Sentence:\",tokenized_word)\n",
    "print(\"Filterd Sentence:\",filtered_sent)\n",
    "        "
   ]
  },
  {
   "cell_type": "code",
   "execution_count": 8,
   "metadata": {},
   "outputs": [
    {
     "name": "stdout",
     "output_type": "stream",
     "text": [
      "stemmed_words: ['bbdo', 'south', 'atlanta', 'handl', 'corpor', 'advertis', 'georgia-pacif', 'assum', 'addit', 'duti', 'brand', 'like', 'angel', 'soft', 'toilet', 'tissu', 'sparkl', 'paper', 'towel', 'said', 'ken', 'haldin', 'spokesman', 'georgia-pacif', 'atlanta']\n"
     ]
    }
   ],
   "source": [
    "ps = PorterStemmer()\n",
    "stemmed_words=[]\n",
    "for w in filtered_sent:\n",
    "    stemmed_words.append(ps.stem(w))\n",
    "print(\"stemmed_words:\",stemmed_words)"
   ]
  },
  {
   "cell_type": "code",
   "execution_count": 9,
   "metadata": {},
   "outputs": [
    {
     "name": "stdout",
     "output_type": "stream",
     "text": [
      "lemmed_words: ['BBDO', 'South', 'Atlanta', 'handle', 'corporate', 'advertising', 'Georgia-Pacific', 'assume', 'additional', 'duty', 'brand', 'like', 'Angel', 'Soft', 'toilet', 'tissue', 'Sparkle', 'paper', 'towel', 'said', 'Ken', 'Haldin', 'spokesman', 'Georgia-Pacific', 'Atlanta']\n"
     ]
    }
   ],
   "source": [
    "from nltk.stem.wordnet import WordNetLemmatizer\n",
    "lem = WordNetLemmatizer()\n",
    "lemmed_words=[]\n",
    "for w in filtered_sent:\n",
    "    lemmed_words.append(lem.lemmatize(w))\n",
    "print(\"lemmed_words:\",lemmed_words)"
   ]
  },
  {
   "cell_type": "code",
   "execution_count": 10,
   "metadata": {},
   "outputs": [
    {
     "name": "stdout",
     "output_type": "stream",
     "text": [
      "[('BBDO', 'NNP'), ('South', 'NNP'), ('Atlanta', 'NNP'), ('handle', 'VB'), ('corporate', 'JJ'), ('advertising', 'NN'), ('Georgia-Pacific', 'NNP'), ('assume', 'VBP'), ('additional', 'JJ'), ('duty', 'NN'), ('brand', 'NN'), ('like', 'IN'), ('Angel', 'NNP'), ('Soft', 'NNP'), ('toilet', 'NN'), ('tissue', 'NN'), ('Sparkle', 'NNP'), ('paper', 'NN'), ('towel', 'NN'), ('said', 'VBD'), ('Ken', 'NNP'), ('Haldin', 'NNP'), ('spokesman', 'NN'), ('Georgia-Pacific', 'NNP'), ('Atlanta', 'NNP')]\n"
     ]
    }
   ],
   "source": [
    "import nltk\n",
    "s_pos = nltk.pos_tag(lemmed_words)\n",
    "print(s_pos)"
   ]
  },
  {
   "cell_type": "code",
   "execution_count": 11,
   "metadata": {},
   "outputs": [
    {
     "name": "stdout",
     "output_type": "stream",
     "text": [
      "(S\n",
      "  BBDO/NNP\n",
      "  South/NNP\n",
      "  Atlanta/NNP\n",
      "  handle/VB\n",
      "  (NP corporate/JJ advertising/NN)\n",
      "  Georgia-Pacific/NNP\n",
      "  assume/VBP\n",
      "  (NP additional/JJ duty/NN)\n",
      "  (NP brand/NN)\n",
      "  like/IN\n",
      "  Angel/NNP\n",
      "  Soft/NNP\n",
      "  (NP toilet/NN)\n",
      "  (NP tissue/NN)\n",
      "  Sparkle/NNP\n",
      "  (NP paper/NN)\n",
      "  (NP towel/NN)\n",
      "  said/VBD\n",
      "  Ken/NNP\n",
      "  Haldin/NNP\n",
      "  (NP spokesman/NN)\n",
      "  Georgia-Pacific/NNP\n",
      "  Atlanta/NNP)\n"
     ]
    }
   ],
   "source": [
    "grammar = \"NP: {<DT>?<JJ>*<NN>}\"\n",
    "cp = nltk.RegexpParser(grammar)\n",
    "result = cp.parse(s_pos)\n",
    "print(result)"
   ]
  },
  {
   "cell_type": "code",
   "execution_count": null,
   "metadata": {},
   "outputs": [],
   "source": []
  }
 ],
 "metadata": {
  "kernelspec": {
   "display_name": "Python 3",
   "language": "python",
   "name": "python3"
  },
  "language_info": {
   "codemirror_mode": {
    "name": "ipython",
    "version": 3
   },
   "file_extension": ".py",
   "mimetype": "text/x-python",
   "name": "python",
   "nbconvert_exporter": "python",
   "pygments_lexer": "ipython3",
   "version": "3.8.5"
  }
 },
 "nbformat": 4,
 "nbformat_minor": 4
}
