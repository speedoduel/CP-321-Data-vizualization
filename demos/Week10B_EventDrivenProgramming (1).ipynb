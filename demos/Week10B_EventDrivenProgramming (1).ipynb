{
 "cells": [
  {
   "cell_type": "code",
   "execution_count": 3,
   "metadata": {},
   "outputs": [
    {
     "name": "stdout",
     "output_type": "stream",
     "text": [
      "init\n",
      "rabbit\n",
      "tutle\n"
     ]
    }
   ],
   "source": [
    "## global variables\n",
    "\n",
    "var = 'init'\n",
    "\n",
    "def h1():\n",
    "    global var\n",
    "    var = 'rabbit'\n",
    "\n",
    "def h2():\n",
    "    global var\n",
    "    var = 'tutle'\n",
    "    \n",
    "print(var)\n",
    "h1()\n",
    "print(var)\n",
    "h2()\n",
    "print(var)"
   ]
  },
  {
   "cell_type": "code",
   "execution_count": null,
   "metadata": {},
   "outputs": [],
   "source": [
    "import simpleguitk\n",
    "\n",
    "\n",
    "## global variable\n",
    "message = 'welcome'\n",
    "message_pos = [50,100]\n",
    "width = 500\n",
    "height = 300\n",
    "num = 0\n",
    "## define helpers\n",
    "def increment():\n",
    "    global num\n",
    "    num += 1\n",
    "\n",
    "## define classes\n",
    "\n",
    "## Event handlers\n",
    "def click():\n",
    "    global message\n",
    "    increment()\n",
    "    message = 'clicked button by the number of times: ' + str(num)\n",
    "\n",
    "def draw(canvas):\n",
    "    canvas.draw_text(message, message_pos, '20', 'Red')\n",
    "\n",
    "## Create a frame\n",
    "frame = simpleguitk.create_frame('DataVisualization', width, height)\n",
    "\n",
    "## Register event handler\n",
    "frame.set_draw_handler(draw)\n",
    "frame.add_button('Change Text', click)\n",
    "\n",
    "## Start frame and timers\n",
    "frame.start()\n"
   ]
  },
  {
   "cell_type": "code",
   "execution_count": null,
   "metadata": {},
   "outputs": [],
   "source": []
  }
 ],
 "metadata": {
  "kernelspec": {
   "display_name": "Python 3",
   "language": "python",
   "name": "python3"
  },
  "language_info": {
   "codemirror_mode": {
    "name": "ipython",
    "version": 3
   },
   "file_extension": ".py",
   "mimetype": "text/x-python",
   "name": "python",
   "nbconvert_exporter": "python",
   "pygments_lexer": "ipython3",
   "version": "3.8.5"
  }
 },
 "nbformat": 4,
 "nbformat_minor": 4
}
